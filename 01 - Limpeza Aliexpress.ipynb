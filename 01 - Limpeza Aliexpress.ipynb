{
 "cells": [
  {
   "cell_type": "markdown",
   "metadata": {},
   "source": [
    "# Cleaning Data from Aliexpress Purchase Orders\n",
    "\n",
    "## Extracted data with \"Aliexpress helper\" Chrome Plugin"
   ]
  },
  {
   "cell_type": "code",
   "execution_count": 1,
   "metadata": {},
   "outputs": [],
   "source": [
    "import numpy as np\n",
    "import pandas as pd\n"
   ]
  },
  {
   "cell_type": "markdown",
   "metadata": {},
   "source": [
    "## Import Order list csv"
   ]
  },
  {
   "cell_type": "code",
   "execution_count": 2,
   "metadata": {},
   "outputs": [],
   "source": [
    "df = pd.read_csv('order_list20190709.csv')"
   ]
  },
  {
   "cell_type": "markdown",
   "metadata": {},
   "source": [
    "## Import CSV from 2009-2019 EUR/BRL rate"
   ]
  },
  {
   "cell_type": "code",
   "execution_count": 3,
   "metadata": {},
   "outputs": [],
   "source": [
    "tab_EUR = pd.read_csv('EUR_BRL_2009-2019.csv')\n",
    "tab_EUR['EURBRL'] = tab_EUR['EURBRL'].str.replace(',','.') #necessary to replace to convert string to float\n",
    "tab_EUR['EURBRL'] = pd.to_numeric(tab_EUR['EURBRL']) #convert the rate from object to float"
   ]
  },
  {
   "cell_type": "markdown",
   "metadata": {},
   "source": [
    "## Import CSV from 2009-2019 USD/BRL rate"
   ]
  },
  {
   "cell_type": "code",
   "execution_count": 4,
   "metadata": {},
   "outputs": [],
   "source": [
    "tab_USD = pd.read_csv('USD_BRL_2009-2019.csv')\n",
    "tab_USD['USDBRL'] = tab_USD['USDBRL'].str.replace(',','.') #necessary to replace to convert string to float\n",
    "tab_USD['USDBRL'] = pd.to_numeric(tab_USD['USDBRL']) #convert the rate from object to float"
   ]
  },
  {
   "cell_type": "markdown",
   "metadata": {},
   "source": [
    "the function merge will put together tab_USD and tab_EUR in one dataframe\n",
    "\n",
    "**tab_EUR:** ['Date', 'EURBRL']\n",
    "\n",
    "**tab_USD:** ['Date', 'USDBRL']\n",
    "\n",
    "**after merge:**  ['Date', 'EURBRL', 'USDBRL'] "
   ]
  },
  {
   "cell_type": "code",
   "execution_count": 5,
   "metadata": {},
   "outputs": [],
   "source": [
    "tab_convertion = tab_EUR.merge(tab_USD)\n"
   ]
  },
  {
   "cell_type": "markdown",
   "metadata": {},
   "source": [
    "### Prepare the dataset with exchage rates to merge with the order list dataset"
   ]
  },
  {
   "cell_type": "code",
   "execution_count": 6,
   "metadata": {},
   "outputs": [],
   "source": [
    "tab_convertion['Date']= pd.to_datetime(tab_convertion['Date'], format='%d/%m/%Y') #convert from object to date"
   ]
  },
  {
   "cell_type": "code",
   "execution_count": 7,
   "metadata": {},
   "outputs": [],
   "source": [
    "dfCurrency = pd.DataFrame(columns=['Date']) #Create a new dataset only with one column 'Date', the values are null"
   ]
  },
  {
   "cell_type": "code",
   "execution_count": 8,
   "metadata": {},
   "outputs": [],
   "source": [
    "#Fill the column 'Date' with dates from 01-jan-2009 to 29-jun-2019,\n",
    "    #the tab_convertion doesn't have dates from Saturday, Sunday and Holidays\n",
    "\n",
    "dfCurrency['Date'] = pd.date_range('01/01/2009','29/06/2019')"
   ]
  },
  {
   "cell_type": "code",
   "execution_count": 9,
   "metadata": {},
   "outputs": [],
   "source": [
    "#Merge, put on dfCurrency new columns with EURBRL and USBBRL rates, where the tab_convertion['Date'] doesn't exist, fill null\n",
    "dfCurrency = pd.merge(dfCurrency, tab_convertion, on='Date', how = 'left')"
   ]
  },
  {
   "cell_type": "code",
   "execution_count": 10,
   "metadata": {
    "scrolled": true
   },
   "outputs": [
    {
     "name": "stdout",
     "output_type": "stream",
     "text": [
      "3330\n",
      "3832\n"
     ]
    }
   ],
   "source": [
    "#Check how many days is added\n",
    "print(len(tab_convertion))\n",
    "print(len(dfCurrency))"
   ]
  },
  {
   "cell_type": "code",
   "execution_count": 11,
   "metadata": {},
   "outputs": [],
   "source": [
    "#Fill the nulls with the last Friday rate\n",
    "dfCurrency['USDBRL'].fillna(method='pad', inplace = True)\n",
    "dfCurrency['EURBRL'].fillna(method='pad', inplace = True)"
   ]
  },
  {
   "cell_type": "code",
   "execution_count": 12,
   "metadata": {},
   "outputs": [
    {
     "data": {
      "text/html": [
       "<div>\n",
       "<style scoped>\n",
       "    .dataframe tbody tr th:only-of-type {\n",
       "        vertical-align: middle;\n",
       "    }\n",
       "\n",
       "    .dataframe tbody tr th {\n",
       "        vertical-align: top;\n",
       "    }\n",
       "\n",
       "    .dataframe thead th {\n",
       "        text-align: right;\n",
       "    }\n",
       "</style>\n",
       "<table border=\"1\" class=\"dataframe\">\n",
       "  <thead>\n",
       "    <tr style=\"text-align: right;\">\n",
       "      <th></th>\n",
       "      <th>Date</th>\n",
       "      <th>EURBRL</th>\n",
       "      <th>USDBRL</th>\n",
       "    </tr>\n",
       "  </thead>\n",
       "  <tbody>\n",
       "    <tr>\n",
       "      <th>0</th>\n",
       "      <td>2009-01-01</td>\n",
       "      <td>3.252670</td>\n",
       "      <td>2.3240</td>\n",
       "    </tr>\n",
       "    <tr>\n",
       "      <th>1</th>\n",
       "      <td>2009-01-02</td>\n",
       "      <td>3.219233</td>\n",
       "      <td>2.3130</td>\n",
       "    </tr>\n",
       "    <tr>\n",
       "      <th>2</th>\n",
       "      <td>2009-01-03</td>\n",
       "      <td>3.219233</td>\n",
       "      <td>2.3130</td>\n",
       "    </tr>\n",
       "    <tr>\n",
       "      <th>3</th>\n",
       "      <td>2009-01-04</td>\n",
       "      <td>3.219233</td>\n",
       "      <td>2.3130</td>\n",
       "    </tr>\n",
       "    <tr>\n",
       "      <th>4</th>\n",
       "      <td>2009-01-05</td>\n",
       "      <td>3.022419</td>\n",
       "      <td>2.2165</td>\n",
       "    </tr>\n",
       "    <tr>\n",
       "      <th>5</th>\n",
       "      <td>2009-01-06</td>\n",
       "      <td>2.887222</td>\n",
       "      <td>2.1390</td>\n",
       "    </tr>\n",
       "    <tr>\n",
       "      <th>6</th>\n",
       "      <td>2009-01-07</td>\n",
       "      <td>2.957207</td>\n",
       "      <td>2.1725</td>\n",
       "    </tr>\n",
       "    <tr>\n",
       "      <th>7</th>\n",
       "      <td>2009-01-08</td>\n",
       "      <td>3.033338</td>\n",
       "      <td>2.2146</td>\n",
       "    </tr>\n",
       "    <tr>\n",
       "      <th>8</th>\n",
       "      <td>2009-01-09</td>\n",
       "      <td>3.017418</td>\n",
       "      <td>2.2431</td>\n",
       "    </tr>\n",
       "    <tr>\n",
       "      <th>9</th>\n",
       "      <td>2009-01-10</td>\n",
       "      <td>3.017418</td>\n",
       "      <td>2.2431</td>\n",
       "    </tr>\n",
       "  </tbody>\n",
       "</table>\n",
       "</div>"
      ],
      "text/plain": [
       "        Date    EURBRL  USDBRL\n",
       "0 2009-01-01  3.252670  2.3240\n",
       "1 2009-01-02  3.219233  2.3130\n",
       "2 2009-01-03  3.219233  2.3130\n",
       "3 2009-01-04  3.219233  2.3130\n",
       "4 2009-01-05  3.022419  2.2165\n",
       "5 2009-01-06  2.887222  2.1390\n",
       "6 2009-01-07  2.957207  2.1725\n",
       "7 2009-01-08  3.033338  2.2146\n",
       "8 2009-01-09  3.017418  2.2431\n",
       "9 2009-01-10  3.017418  2.2431"
      ]
     },
     "execution_count": 12,
     "metadata": {},
     "output_type": "execute_result"
    }
   ],
   "source": [
    "dfCurrency.head(10)"
   ]
  },
  {
   "cell_type": "markdown",
   "metadata": {},
   "source": [
    "## DF Aliexpress Orders"
   ]
  },
  {
   "cell_type": "code",
   "execution_count": 13,
   "metadata": {},
   "outputs": [
    {
     "data": {
      "text/plain": [
       "#Order            int64\n",
       " Date            object\n",
       " Shop            object\n",
       " Price           object\n",
       " Status          object\n",
       " Details         object\n",
       " orderEnds       object\n",
       " Tracking        object\n",
       " Mail ID        float64\n",
       " Destination    float64\n",
       "dtype: object"
      ]
     },
     "execution_count": 13,
     "metadata": {},
     "output_type": "execute_result"
    }
   ],
   "source": [
    "df.dtypes"
   ]
  },
  {
   "cell_type": "code",
   "execution_count": 14,
   "metadata": {},
   "outputs": [
    {
     "data": {
      "text/html": [
       "<div>\n",
       "<style scoped>\n",
       "    .dataframe tbody tr th:only-of-type {\n",
       "        vertical-align: middle;\n",
       "    }\n",
       "\n",
       "    .dataframe tbody tr th {\n",
       "        vertical-align: top;\n",
       "    }\n",
       "\n",
       "    .dataframe thead th {\n",
       "        text-align: right;\n",
       "    }\n",
       "</style>\n",
       "<table border=\"1\" class=\"dataframe\">\n",
       "  <thead>\n",
       "    <tr style=\"text-align: right;\">\n",
       "      <th></th>\n",
       "      <th>#Order</th>\n",
       "      <th>Date</th>\n",
       "      <th>Shop</th>\n",
       "      <th>Price</th>\n",
       "      <th>Status</th>\n",
       "      <th>Details</th>\n",
       "      <th>orderEnds</th>\n",
       "      <th>Tracking</th>\n",
       "      <th>Mail ID</th>\n",
       "      <th>Destination</th>\n",
       "    </tr>\n",
       "  </thead>\n",
       "  <tbody>\n",
       "    <tr>\n",
       "      <th>0</th>\n",
       "      <td>103271516165505</td>\n",
       "      <td>08:31 Jun. 18 2019</td>\n",
       "      <td>ZIYAN Store</td>\n",
       "      <td>$ 7.32</td>\n",
       "      <td>Aguardando entrega</td>\n",
       "      <td>Seu pedido será fechado em: 70 dias 7 horas 2...</td>\n",
       "      <td>18/09/2019 01:15</td>\n",
       "      <td></td>\n",
       "      <td>NaN</td>\n",
       "      <td>NaN</td>\n",
       "    </tr>\n",
       "    <tr>\n",
       "      <th>1</th>\n",
       "      <td>102715705855505</td>\n",
       "      <td>03:37 Jun. 06 2019</td>\n",
       "      <td>Bluedio official store</td>\n",
       "      <td>$ 19.79</td>\n",
       "      <td>Concluído</td>\n",
       "      <td></td>\n",
       "      <td></td>\n",
       "      <td></td>\n",
       "      <td>NaN</td>\n",
       "      <td>NaN</td>\n",
       "    </tr>\n",
       "    <tr>\n",
       "      <th>2</th>\n",
       "      <td>102339700245505</td>\n",
       "      <td>03:05 May. 26 2019</td>\n",
       "      <td>MC-TECH Store</td>\n",
       "      <td>R$ 289.67</td>\n",
       "      <td>Concluído</td>\n",
       "      <td></td>\n",
       "      <td></td>\n",
       "      <td></td>\n",
       "      <td>NaN</td>\n",
       "      <td>NaN</td>\n",
       "    </tr>\n",
       "    <tr>\n",
       "      <th>3</th>\n",
       "      <td>102339700255505</td>\n",
       "      <td>03:05 May. 26 2019</td>\n",
       "      <td>Godness House-jder Store</td>\n",
       "      <td>R$ 22.18</td>\n",
       "      <td>Aguardando entrega</td>\n",
       "      <td>Seu pedido será fechado em: 53 dias 10 horas ...</td>\n",
       "      <td>1/09/2019 04:12</td>\n",
       "      <td></td>\n",
       "      <td>NaN</td>\n",
       "      <td>NaN</td>\n",
       "    </tr>\n",
       "    <tr>\n",
       "      <th>4</th>\n",
       "      <td>102339700265505</td>\n",
       "      <td>03:05 May. 26 2019</td>\n",
       "      <td>Blue shield electronic technology</td>\n",
       "      <td>R$ 43.98</td>\n",
       "      <td>Concluído</td>\n",
       "      <td></td>\n",
       "      <td></td>\n",
       "      <td></td>\n",
       "      <td>NaN</td>\n",
       "      <td>NaN</td>\n",
       "    </tr>\n",
       "    <tr>\n",
       "      <th>5</th>\n",
       "      <td>102339700275505</td>\n",
       "      <td>03:05 May. 26 2019</td>\n",
       "      <td>Fodsports Official Store</td>\n",
       "      <td>R$ 45.32</td>\n",
       "      <td>Concluído</td>\n",
       "      <td></td>\n",
       "      <td></td>\n",
       "      <td></td>\n",
       "      <td>NaN</td>\n",
       "      <td>NaN</td>\n",
       "    </tr>\n",
       "    <tr>\n",
       "      <th>6</th>\n",
       "      <td>102339700235505</td>\n",
       "      <td>03:05 May. 26 2019</td>\n",
       "      <td>SH Electronics Store</td>\n",
       "      <td>R$ 50.98</td>\n",
       "      <td>Concluído</td>\n",
       "      <td></td>\n",
       "      <td></td>\n",
       "      <td></td>\n",
       "      <td>NaN</td>\n",
       "      <td>NaN</td>\n",
       "    </tr>\n",
       "    <tr>\n",
       "      <th>7</th>\n",
       "      <td>100690532105505</td>\n",
       "      <td>18:07 Apr. 13 2019</td>\n",
       "      <td>Shenzhen QSS Electronics Co. Ltd</td>\n",
       "      <td>$ 61.79</td>\n",
       "      <td>Concluído</td>\n",
       "      <td></td>\n",
       "      <td></td>\n",
       "      <td></td>\n",
       "      <td>NaN</td>\n",
       "      <td>NaN</td>\n",
       "    </tr>\n",
       "    <tr>\n",
       "      <th>8</th>\n",
       "      <td>100216642135505</td>\n",
       "      <td>13:30 Apr. 01 2019</td>\n",
       "      <td>UPaitou Official Store</td>\n",
       "      <td>R$ 29.36</td>\n",
       "      <td>Concluído</td>\n",
       "      <td></td>\n",
       "      <td></td>\n",
       "      <td></td>\n",
       "      <td>NaN</td>\n",
       "      <td>NaN</td>\n",
       "    </tr>\n",
       "    <tr>\n",
       "      <th>9</th>\n",
       "      <td>100216642145505</td>\n",
       "      <td>13:30 Apr. 01 2019</td>\n",
       "      <td>TTOMYYOUG Official Store</td>\n",
       "      <td>R$ 25.60</td>\n",
       "      <td>Concluído</td>\n",
       "      <td></td>\n",
       "      <td></td>\n",
       "      <td></td>\n",
       "      <td>NaN</td>\n",
       "      <td>NaN</td>\n",
       "    </tr>\n",
       "    <tr>\n",
       "      <th>10</th>\n",
       "      <td>100216642095505</td>\n",
       "      <td>13:30 Apr. 01 2019</td>\n",
       "      <td>Rose Bag Store</td>\n",
       "      <td>R$ 42.95</td>\n",
       "      <td>Terminado</td>\n",
       "      <td></td>\n",
       "      <td></td>\n",
       "      <td></td>\n",
       "      <td>NaN</td>\n",
       "      <td>NaN</td>\n",
       "    </tr>\n",
       "    <tr>\n",
       "      <th>11</th>\n",
       "      <td>100216642125505</td>\n",
       "      <td>13:30 Apr. 01 2019</td>\n",
       "      <td>Warming Car Parts Store</td>\n",
       "      <td>R$ 10.33</td>\n",
       "      <td>Concluído</td>\n",
       "      <td></td>\n",
       "      <td></td>\n",
       "      <td></td>\n",
       "      <td>NaN</td>\n",
       "      <td>NaN</td>\n",
       "    </tr>\n",
       "    <tr>\n",
       "      <th>12</th>\n",
       "      <td>99712791175505</td>\n",
       "      <td>17:26 Mar. 10 2019</td>\n",
       "      <td>Star Pets Product Workshop</td>\n",
       "      <td>R$ 69.03</td>\n",
       "      <td>Terminado</td>\n",
       "      <td></td>\n",
       "      <td></td>\n",
       "      <td></td>\n",
       "      <td>NaN</td>\n",
       "      <td>NaN</td>\n",
       "    </tr>\n",
       "    <tr>\n",
       "      <th>13</th>\n",
       "      <td>507447644845505</td>\n",
       "      <td>03:11 Dec. 13 2018</td>\n",
       "      <td>OyOCycle Offcial Store</td>\n",
       "      <td>$ 15.99</td>\n",
       "      <td>Concluído</td>\n",
       "      <td></td>\n",
       "      <td></td>\n",
       "      <td></td>\n",
       "      <td>NaN</td>\n",
       "      <td>NaN</td>\n",
       "    </tr>\n",
       "    <tr>\n",
       "      <th>14</th>\n",
       "      <td>507261224355505</td>\n",
       "      <td>02:07 Nov. 12 2018</td>\n",
       "      <td>Shop3673036 Store</td>\n",
       "      <td>$ 24.30</td>\n",
       "      <td>Concluído</td>\n",
       "      <td></td>\n",
       "      <td></td>\n",
       "      <td></td>\n",
       "      <td>NaN</td>\n",
       "      <td>NaN</td>\n",
       "    </tr>\n",
       "    <tr>\n",
       "      <th>15</th>\n",
       "      <td>507107925225505</td>\n",
       "      <td>10:43 Nov. 11 2018</td>\n",
       "      <td>Vifocal Technology Co. Ltd</td>\n",
       "      <td>$ 24.81</td>\n",
       "      <td>Concluído</td>\n",
       "      <td></td>\n",
       "      <td></td>\n",
       "      <td></td>\n",
       "      <td>NaN</td>\n",
       "      <td>NaN</td>\n",
       "    </tr>\n",
       "    <tr>\n",
       "      <th>16</th>\n",
       "      <td>507107925235505</td>\n",
       "      <td>10:43 Nov. 11 2018</td>\n",
       "      <td>Xiaomi MC Store</td>\n",
       "      <td>$ 20.99</td>\n",
       "      <td>Concluído</td>\n",
       "      <td></td>\n",
       "      <td></td>\n",
       "      <td></td>\n",
       "      <td>NaN</td>\n",
       "      <td>NaN</td>\n",
       "    </tr>\n",
       "    <tr>\n",
       "      <th>17</th>\n",
       "      <td>506997340235505</td>\n",
       "      <td>06:42 Oct. 29 2018</td>\n",
       "      <td>Mobile Phone Accessory Wonderland Store</td>\n",
       "      <td>€ 3.57</td>\n",
       "      <td>Concluído</td>\n",
       "      <td></td>\n",
       "      <td></td>\n",
       "      <td></td>\n",
       "      <td>NaN</td>\n",
       "      <td>NaN</td>\n",
       "    </tr>\n",
       "    <tr>\n",
       "      <th>18</th>\n",
       "      <td>506844000855505</td>\n",
       "      <td>11:53 Oct. 22 2018</td>\n",
       "      <td>Mobile Phone Accessory Wonderland Store</td>\n",
       "      <td>€ 6.51</td>\n",
       "      <td>Concluído</td>\n",
       "      <td></td>\n",
       "      <td></td>\n",
       "      <td></td>\n",
       "      <td>NaN</td>\n",
       "      <td>NaN</td>\n",
       "    </tr>\n",
       "    <tr>\n",
       "      <th>19</th>\n",
       "      <td>506763451375505</td>\n",
       "      <td>19:35 Oct. 09 2018</td>\n",
       "      <td>motorcycle-888 Store</td>\n",
       "      <td>$ 70.07</td>\n",
       "      <td>Concluído</td>\n",
       "      <td></td>\n",
       "      <td></td>\n",
       "      <td></td>\n",
       "      <td>NaN</td>\n",
       "      <td>NaN</td>\n",
       "    </tr>\n",
       "  </tbody>\n",
       "</table>\n",
       "</div>"
      ],
      "text/plain": [
       "             #Order                 Date  \\\n",
       "0   103271516165505   08:31 Jun. 18 2019   \n",
       "1   102715705855505   03:37 Jun. 06 2019   \n",
       "2   102339700245505   03:05 May. 26 2019   \n",
       "3   102339700255505   03:05 May. 26 2019   \n",
       "4   102339700265505   03:05 May. 26 2019   \n",
       "5   102339700275505   03:05 May. 26 2019   \n",
       "6   102339700235505   03:05 May. 26 2019   \n",
       "7   100690532105505   18:07 Apr. 13 2019   \n",
       "8   100216642135505   13:30 Apr. 01 2019   \n",
       "9   100216642145505   13:30 Apr. 01 2019   \n",
       "10  100216642095505   13:30 Apr. 01 2019   \n",
       "11  100216642125505   13:30 Apr. 01 2019   \n",
       "12   99712791175505   17:26 Mar. 10 2019   \n",
       "13  507447644845505   03:11 Dec. 13 2018   \n",
       "14  507261224355505   02:07 Nov. 12 2018   \n",
       "15  507107925225505   10:43 Nov. 11 2018   \n",
       "16  507107925235505   10:43 Nov. 11 2018   \n",
       "17  506997340235505   06:42 Oct. 29 2018   \n",
       "18  506844000855505   11:53 Oct. 22 2018   \n",
       "19  506763451375505   19:35 Oct. 09 2018   \n",
       "\n",
       "                                        Shop       Price               Status  \\\n",
       "0                                ZIYAN Store      $ 7.32   Aguardando entrega   \n",
       "1                     Bluedio official store     $ 19.79            Concluído   \n",
       "2                              MC-TECH Store   R$ 289.67            Concluído   \n",
       "3                   Godness House-jder Store    R$ 22.18   Aguardando entrega   \n",
       "4          Blue shield electronic technology    R$ 43.98            Concluído   \n",
       "5                   Fodsports Official Store    R$ 45.32            Concluído   \n",
       "6                       SH Electronics Store    R$ 50.98            Concluído   \n",
       "7           Shenzhen QSS Electronics Co. Ltd     $ 61.79            Concluído   \n",
       "8                     UPaitou Official Store    R$ 29.36            Concluído   \n",
       "9                   TTOMYYOUG Official Store    R$ 25.60            Concluído   \n",
       "10                            Rose Bag Store    R$ 42.95            Terminado   \n",
       "11                   Warming Car Parts Store    R$ 10.33            Concluído   \n",
       "12                Star Pets Product Workshop    R$ 69.03            Terminado   \n",
       "13                    OyOCycle Offcial Store     $ 15.99            Concluído   \n",
       "14                         Shop3673036 Store     $ 24.30            Concluído   \n",
       "15                Vifocal Technology Co. Ltd     $ 24.81            Concluído   \n",
       "16                           Xiaomi MC Store     $ 20.99            Concluído   \n",
       "17   Mobile Phone Accessory Wonderland Store      € 3.57            Concluído   \n",
       "18   Mobile Phone Accessory Wonderland Store      € 6.51            Concluído   \n",
       "19                      motorcycle-888 Store     $ 70.07            Concluído   \n",
       "\n",
       "                                              Details          orderEnds  \\\n",
       "0    Seu pedido será fechado em: 70 dias 7 horas 2...   18/09/2019 01:15   \n",
       "1                                                                          \n",
       "2                                                                          \n",
       "3    Seu pedido será fechado em: 53 dias 10 horas ...    1/09/2019 04:12   \n",
       "4                                                                          \n",
       "5                                                                          \n",
       "6                                                                          \n",
       "7                                                                          \n",
       "8                                                                          \n",
       "9                                                                          \n",
       "10                                                                         \n",
       "11                                                                         \n",
       "12                                                                         \n",
       "13                                                                         \n",
       "14                                                                         \n",
       "15                                                                         \n",
       "16                                                                         \n",
       "17                                                                         \n",
       "18                                                                         \n",
       "19                                                                         \n",
       "\n",
       "    Tracking   Mail ID   Destination  \n",
       "0                  NaN           NaN  \n",
       "1                  NaN           NaN  \n",
       "2                  NaN           NaN  \n",
       "3                  NaN           NaN  \n",
       "4                  NaN           NaN  \n",
       "5                  NaN           NaN  \n",
       "6                  NaN           NaN  \n",
       "7                  NaN           NaN  \n",
       "8                  NaN           NaN  \n",
       "9                  NaN           NaN  \n",
       "10                 NaN           NaN  \n",
       "11                 NaN           NaN  \n",
       "12                 NaN           NaN  \n",
       "13                 NaN           NaN  \n",
       "14                 NaN           NaN  \n",
       "15                 NaN           NaN  \n",
       "16                 NaN           NaN  \n",
       "17                 NaN           NaN  \n",
       "18                 NaN           NaN  \n",
       "19                 NaN           NaN  "
      ]
     },
     "execution_count": 14,
     "metadata": {},
     "output_type": "execute_result"
    }
   ],
   "source": [
    "df.head(20)"
   ]
  },
  {
   "cell_type": "code",
   "execution_count": 15,
   "metadata": {
    "scrolled": true
   },
   "outputs": [
    {
     "data": {
      "text/plain": [
       "Index(['#Order', ' Date', ' Shop', ' Price', ' Status', ' Details',\n",
       "       ' orderEnds', ' Tracking', ' Mail ID', ' Destination'],\n",
       "      dtype='object')"
      ]
     },
     "execution_count": 15,
     "metadata": {},
     "output_type": "execute_result"
    }
   ],
   "source": [
    "df.columns"
   ]
  },
  {
   "cell_type": "code",
   "execution_count": 16,
   "metadata": {},
   "outputs": [],
   "source": [
    "df[' Date'] = pd.to_datetime(df[' Date']) #convert to date"
   ]
  },
  {
   "cell_type": "code",
   "execution_count": 17,
   "metadata": {},
   "outputs": [
    {
     "data": {
      "text/plain": [
       "(222, 10)"
      ]
     },
     "execution_count": 17,
     "metadata": {},
     "output_type": "execute_result"
    }
   ],
   "source": [
    "df.shape"
   ]
  },
  {
   "cell_type": "code",
   "execution_count": 18,
   "metadata": {},
   "outputs": [
    {
     "data": {
      "text/plain": [
       "[' $ 7.32',\n",
       " ' $ 19.79',\n",
       " ' R$ 289.67',\n",
       " ' R$ 22.18',\n",
       " ' R$ 43.98',\n",
       " ' R$ 45.32',\n",
       " ' R$ 50.98',\n",
       " ' $ 61.79',\n",
       " ' R$ 29.36',\n",
       " ' R$ 25.60']"
      ]
     },
     "execution_count": 18,
     "metadata": {},
     "output_type": "execute_result"
    }
   ],
   "source": [
    "df[' Price'].head(10).tolist() #here is possible to see that all entrys have a blank space before the Price"
   ]
  },
  {
   "cell_type": "markdown",
   "metadata": {},
   "source": [
    "### Convert df['Price'] to float\n",
    "First, we habe to clean the first blank space"
   ]
  },
  {
   "cell_type": "code",
   "execution_count": 19,
   "metadata": {},
   "outputs": [],
   "source": [
    "df[' Price']= df[' Price'].str.strip()"
   ]
  },
  {
   "cell_type": "markdown",
   "metadata": {},
   "source": [
    "then, split the Currency and numbers"
   ]
  },
  {
   "cell_type": "code",
   "execution_count": 20,
   "metadata": {},
   "outputs": [],
   "source": [
    "df_aux = df[' Price'].str.split(' ', n = 1, expand = True) #create a auxiliar dataframe with a list [Currency,Number]"
   ]
  },
  {
   "cell_type": "code",
   "execution_count": 21,
   "metadata": {},
   "outputs": [],
   "source": [
    "df['Currency'] = df_aux[0] #Save the Currency with a new column in main df\n",
    "df[' Price'] = df_aux[1] #Overwrite the column ' Price' with numbers only"
   ]
  },
  {
   "cell_type": "code",
   "execution_count": 22,
   "metadata": {},
   "outputs": [],
   "source": [
    "df[' Price'] = pd.to_numeric(df[' Price']) #convert to float"
   ]
  },
  {
   "cell_type": "code",
   "execution_count": 23,
   "metadata": {
    "scrolled": true
   },
   "outputs": [
    {
     "data": {
      "text/plain": [
       "#Order                   int64\n",
       " Date           datetime64[ns]\n",
       " Shop                   object\n",
       " Price                 float64\n",
       " Status                 object\n",
       " Details                object\n",
       " orderEnds              object\n",
       " Tracking               object\n",
       " Mail ID               float64\n",
       " Destination           float64\n",
       "Currency                object\n",
       "dtype: object"
      ]
     },
     "execution_count": 23,
     "metadata": {},
     "output_type": "execute_result"
    }
   ],
   "source": [
    "df.dtypes"
   ]
  },
  {
   "cell_type": "markdown",
   "metadata": {},
   "source": [
    "### Rename and reorder columns"
   ]
  },
  {
   "cell_type": "code",
   "execution_count": 24,
   "metadata": {
    "scrolled": true
   },
   "outputs": [
    {
     "data": {
      "text/plain": [
       "['#Order',\n",
       " ' Date',\n",
       " ' Shop',\n",
       " ' Price',\n",
       " ' Status',\n",
       " ' Details',\n",
       " ' orderEnds',\n",
       " ' Tracking',\n",
       " ' Mail ID',\n",
       " ' Destination',\n",
       " 'Currency']"
      ]
     },
     "execution_count": 24,
     "metadata": {},
     "output_type": "execute_result"
    }
   ],
   "source": [
    "df.columns.tolist()"
   ]
  },
  {
   "cell_type": "markdown",
   "metadata": {},
   "source": [
    "Use df.filter to select the important columns and re-order"
   ]
  },
  {
   "cell_type": "code",
   "execution_count": 25,
   "metadata": {},
   "outputs": [],
   "source": [
    "df = df.filter(['#Order', 'Currency',  ' Price', ' Status', ' Shop', ' Details', ' orderEnds', ' Date' ])"
   ]
  },
  {
   "cell_type": "code",
   "execution_count": 26,
   "metadata": {},
   "outputs": [],
   "source": [
    "renomear = {'#Order':'Order',\n",
    " ' Price':'Price',\n",
    " ' Status':'Status',\n",
    " ' Shop':'Store',\n",
    " ' Details':'Details',\n",
    " ' orderEnds':'orderEnds',\n",
    " ' Date':'Date'}"
   ]
  },
  {
   "cell_type": "code",
   "execution_count": 27,
   "metadata": {},
   "outputs": [],
   "source": [
    "df.rename(renomear, axis='columns', inplace=True)"
   ]
  },
  {
   "cell_type": "code",
   "execution_count": 28,
   "metadata": {
    "scrolled": true
   },
   "outputs": [
    {
     "data": {
      "text/html": [
       "<div>\n",
       "<style scoped>\n",
       "    .dataframe tbody tr th:only-of-type {\n",
       "        vertical-align: middle;\n",
       "    }\n",
       "\n",
       "    .dataframe tbody tr th {\n",
       "        vertical-align: top;\n",
       "    }\n",
       "\n",
       "    .dataframe thead th {\n",
       "        text-align: right;\n",
       "    }\n",
       "</style>\n",
       "<table border=\"1\" class=\"dataframe\">\n",
       "  <thead>\n",
       "    <tr style=\"text-align: right;\">\n",
       "      <th></th>\n",
       "      <th>Order</th>\n",
       "      <th>Currency</th>\n",
       "      <th>Price</th>\n",
       "      <th>Status</th>\n",
       "      <th>Store</th>\n",
       "      <th>Details</th>\n",
       "      <th>orderEnds</th>\n",
       "      <th>Date</th>\n",
       "    </tr>\n",
       "  </thead>\n",
       "  <tbody>\n",
       "    <tr>\n",
       "      <th>0</th>\n",
       "      <td>103271516165505</td>\n",
       "      <td>$</td>\n",
       "      <td>7.32</td>\n",
       "      <td>Aguardando entrega</td>\n",
       "      <td>ZIYAN Store</td>\n",
       "      <td>Seu pedido será fechado em: 70 dias 7 horas 2...</td>\n",
       "      <td>18/09/2019 01:15</td>\n",
       "      <td>2019-06-18 08:31:00</td>\n",
       "    </tr>\n",
       "    <tr>\n",
       "      <th>1</th>\n",
       "      <td>102715705855505</td>\n",
       "      <td>$</td>\n",
       "      <td>19.79</td>\n",
       "      <td>Concluído</td>\n",
       "      <td>Bluedio official store</td>\n",
       "      <td></td>\n",
       "      <td></td>\n",
       "      <td>2019-06-06 03:37:00</td>\n",
       "    </tr>\n",
       "    <tr>\n",
       "      <th>2</th>\n",
       "      <td>102339700245505</td>\n",
       "      <td>R$</td>\n",
       "      <td>289.67</td>\n",
       "      <td>Concluído</td>\n",
       "      <td>MC-TECH Store</td>\n",
       "      <td></td>\n",
       "      <td></td>\n",
       "      <td>2019-05-26 03:05:00</td>\n",
       "    </tr>\n",
       "    <tr>\n",
       "      <th>3</th>\n",
       "      <td>102339700255505</td>\n",
       "      <td>R$</td>\n",
       "      <td>22.18</td>\n",
       "      <td>Aguardando entrega</td>\n",
       "      <td>Godness House-jder Store</td>\n",
       "      <td>Seu pedido será fechado em: 53 dias 10 horas ...</td>\n",
       "      <td>1/09/2019 04:12</td>\n",
       "      <td>2019-05-26 03:05:00</td>\n",
       "    </tr>\n",
       "    <tr>\n",
       "      <th>4</th>\n",
       "      <td>102339700265505</td>\n",
       "      <td>R$</td>\n",
       "      <td>43.98</td>\n",
       "      <td>Concluído</td>\n",
       "      <td>Blue shield electronic technology</td>\n",
       "      <td></td>\n",
       "      <td></td>\n",
       "      <td>2019-05-26 03:05:00</td>\n",
       "    </tr>\n",
       "  </tbody>\n",
       "</table>\n",
       "</div>"
      ],
      "text/plain": [
       "             Order Currency   Price               Status  \\\n",
       "0  103271516165505        $    7.32   Aguardando entrega   \n",
       "1  102715705855505        $   19.79            Concluído   \n",
       "2  102339700245505       R$  289.67            Concluído   \n",
       "3  102339700255505       R$   22.18   Aguardando entrega   \n",
       "4  102339700265505       R$   43.98            Concluído   \n",
       "\n",
       "                                Store  \\\n",
       "0                         ZIYAN Store   \n",
       "1              Bluedio official store   \n",
       "2                       MC-TECH Store   \n",
       "3            Godness House-jder Store   \n",
       "4   Blue shield electronic technology   \n",
       "\n",
       "                                             Details          orderEnds  \\\n",
       "0   Seu pedido será fechado em: 70 dias 7 horas 2...   18/09/2019 01:15   \n",
       "1                                                                         \n",
       "2                                                                         \n",
       "3   Seu pedido será fechado em: 53 dias 10 horas ...    1/09/2019 04:12   \n",
       "4                                                                         \n",
       "\n",
       "                 Date  \n",
       "0 2019-06-18 08:31:00  \n",
       "1 2019-06-06 03:37:00  \n",
       "2 2019-05-26 03:05:00  \n",
       "3 2019-05-26 03:05:00  \n",
       "4 2019-05-26 03:05:00  "
      ]
     },
     "execution_count": 28,
     "metadata": {},
     "output_type": "execute_result"
    }
   ],
   "source": [
    "df.head()"
   ]
  },
  {
   "cell_type": "code",
   "execution_count": 29,
   "metadata": {},
   "outputs": [
    {
     "data": {
      "text/plain": [
       "Order                 int64\n",
       "Currency             object\n",
       "Price               float64\n",
       "Status               object\n",
       "Store                object\n",
       "Details              object\n",
       "orderEnds            object\n",
       "Date         datetime64[ns]\n",
       "dtype: object"
      ]
     },
     "execution_count": 29,
     "metadata": {},
     "output_type": "execute_result"
    }
   ],
   "source": [
    "df.dtypes"
   ]
  },
  {
   "cell_type": "code",
   "execution_count": 30,
   "metadata": {
    "scrolled": false
   },
   "outputs": [],
   "source": [
    "#Remove the first blank character\n",
    "df['Status'] = df['Status'].str.strip()\n",
    "df['Store'] = df['Store'].str.strip()\n",
    "df['Details'] = df['Details'].str.strip()\n",
    "df['orderEnds'] = df['orderEnds'].str.strip()\n"
   ]
  },
  {
   "cell_type": "code",
   "execution_count": 31,
   "metadata": {},
   "outputs": [],
   "source": [
    "#convert to Date format\n",
    "df['orderEnds'] = pd.to_datetime(df['orderEnds'])"
   ]
  },
  {
   "cell_type": "code",
   "execution_count": 32,
   "metadata": {},
   "outputs": [
    {
     "data": {
      "text/html": [
       "<div>\n",
       "<style scoped>\n",
       "    .dataframe tbody tr th:only-of-type {\n",
       "        vertical-align: middle;\n",
       "    }\n",
       "\n",
       "    .dataframe tbody tr th {\n",
       "        vertical-align: top;\n",
       "    }\n",
       "\n",
       "    .dataframe thead th {\n",
       "        text-align: right;\n",
       "    }\n",
       "</style>\n",
       "<table border=\"1\" class=\"dataframe\">\n",
       "  <thead>\n",
       "    <tr style=\"text-align: right;\">\n",
       "      <th></th>\n",
       "      <th>Order</th>\n",
       "      <th>Currency</th>\n",
       "      <th>Price</th>\n",
       "      <th>Status</th>\n",
       "      <th>Store</th>\n",
       "      <th>Details</th>\n",
       "      <th>orderEnds</th>\n",
       "      <th>Date</th>\n",
       "    </tr>\n",
       "  </thead>\n",
       "  <tbody>\n",
       "    <tr>\n",
       "      <th>0</th>\n",
       "      <td>103271516165505</td>\n",
       "      <td>$</td>\n",
       "      <td>7.32</td>\n",
       "      <td>Aguardando entrega</td>\n",
       "      <td>ZIYAN Store</td>\n",
       "      <td>Seu pedido será fechado em: 70 dias 7 horas 20...</td>\n",
       "      <td>2019-09-18 01:15:00</td>\n",
       "      <td>2019-06-18 08:31:00</td>\n",
       "    </tr>\n",
       "    <tr>\n",
       "      <th>1</th>\n",
       "      <td>102715705855505</td>\n",
       "      <td>$</td>\n",
       "      <td>19.79</td>\n",
       "      <td>Concluído</td>\n",
       "      <td>Bluedio official store</td>\n",
       "      <td></td>\n",
       "      <td>NaT</td>\n",
       "      <td>2019-06-06 03:37:00</td>\n",
       "    </tr>\n",
       "    <tr>\n",
       "      <th>2</th>\n",
       "      <td>102339700245505</td>\n",
       "      <td>R$</td>\n",
       "      <td>289.67</td>\n",
       "      <td>Concluído</td>\n",
       "      <td>MC-TECH Store</td>\n",
       "      <td></td>\n",
       "      <td>NaT</td>\n",
       "      <td>2019-05-26 03:05:00</td>\n",
       "    </tr>\n",
       "    <tr>\n",
       "      <th>3</th>\n",
       "      <td>102339700255505</td>\n",
       "      <td>R$</td>\n",
       "      <td>22.18</td>\n",
       "      <td>Aguardando entrega</td>\n",
       "      <td>Godness House-jder Store</td>\n",
       "      <td>Seu pedido será fechado em: 53 dias 10 horas 1...</td>\n",
       "      <td>2019-01-09 04:12:00</td>\n",
       "      <td>2019-05-26 03:05:00</td>\n",
       "    </tr>\n",
       "    <tr>\n",
       "      <th>4</th>\n",
       "      <td>102339700265505</td>\n",
       "      <td>R$</td>\n",
       "      <td>43.98</td>\n",
       "      <td>Concluído</td>\n",
       "      <td>Blue shield electronic technology</td>\n",
       "      <td></td>\n",
       "      <td>NaT</td>\n",
       "      <td>2019-05-26 03:05:00</td>\n",
       "    </tr>\n",
       "  </tbody>\n",
       "</table>\n",
       "</div>"
      ],
      "text/plain": [
       "             Order Currency   Price              Status  \\\n",
       "0  103271516165505        $    7.32  Aguardando entrega   \n",
       "1  102715705855505        $   19.79           Concluído   \n",
       "2  102339700245505       R$  289.67           Concluído   \n",
       "3  102339700255505       R$   22.18  Aguardando entrega   \n",
       "4  102339700265505       R$   43.98           Concluído   \n",
       "\n",
       "                               Store  \\\n",
       "0                        ZIYAN Store   \n",
       "1             Bluedio official store   \n",
       "2                      MC-TECH Store   \n",
       "3           Godness House-jder Store   \n",
       "4  Blue shield electronic technology   \n",
       "\n",
       "                                             Details           orderEnds  \\\n",
       "0  Seu pedido será fechado em: 70 dias 7 horas 20... 2019-09-18 01:15:00   \n",
       "1                                                                    NaT   \n",
       "2                                                                    NaT   \n",
       "3  Seu pedido será fechado em: 53 dias 10 horas 1... 2019-01-09 04:12:00   \n",
       "4                                                                    NaT   \n",
       "\n",
       "                 Date  \n",
       "0 2019-06-18 08:31:00  \n",
       "1 2019-06-06 03:37:00  \n",
       "2 2019-05-26 03:05:00  \n",
       "3 2019-05-26 03:05:00  \n",
       "4 2019-05-26 03:05:00  "
      ]
     },
     "execution_count": 32,
     "metadata": {},
     "output_type": "execute_result"
    }
   ],
   "source": [
    "df.head()"
   ]
  },
  {
   "cell_type": "code",
   "execution_count": 33,
   "metadata": {},
   "outputs": [],
   "source": [
    "#Select only date, without time\n",
    "df['Date'] = df['Date'].dt.date"
   ]
  },
  {
   "cell_type": "code",
   "execution_count": 34,
   "metadata": {},
   "outputs": [],
   "source": [
    "#the previously line convert automatically to object, so is necessary to convert to date format one more time\n",
    "df['Date'] = pd.to_datetime(df['Date'])"
   ]
  },
  {
   "cell_type": "code",
   "execution_count": 35,
   "metadata": {},
   "outputs": [
    {
     "data": {
      "text/plain": [
       "Date      datetime64[ns]\n",
       "EURBRL           float64\n",
       "USDBRL           float64\n",
       "dtype: object"
      ]
     },
     "execution_count": 35,
     "metadata": {},
     "output_type": "execute_result"
    }
   ],
   "source": [
    "dfCurrency.dtypes"
   ]
  },
  {
   "cell_type": "code",
   "execution_count": 36,
   "metadata": {},
   "outputs": [
    {
     "data": {
      "text/plain": [
       "Order                 int64\n",
       "Currency             object\n",
       "Price               float64\n",
       "Status               object\n",
       "Store                object\n",
       "Details              object\n",
       "orderEnds    datetime64[ns]\n",
       "Date         datetime64[ns]\n",
       "dtype: object"
      ]
     },
     "execution_count": 36,
     "metadata": {},
     "output_type": "execute_result"
    }
   ],
   "source": [
    "df.dtypes"
   ]
  },
  {
   "cell_type": "markdown",
   "metadata": {},
   "source": [
    "## Merge df with df Currency"
   ]
  },
  {
   "cell_type": "code",
   "execution_count": 37,
   "metadata": {},
   "outputs": [],
   "source": [
    "df_merged = pd.merge(df, dfCurrency, on='Date', how = 'left')"
   ]
  },
  {
   "cell_type": "code",
   "execution_count": 38,
   "metadata": {},
   "outputs": [],
   "source": [
    "#If Currency == $ multiply Price * USDBRL, else keep Price, store in conv_dolar var\n",
    "conv_dolar = np.where(df_merged['Currency']=='$', df_merged['Price'] * df_merged['USDBRL'],df_merged['Price'])"
   ]
  },
  {
   "cell_type": "code",
   "execution_count": 39,
   "metadata": {},
   "outputs": [],
   "source": [
    "#If Currency == Euro multiply Price * EURBRL, else execute the previously line\n",
    "df_merged['Reais'] = np.where(df_merged['Currency']=='€', df_merged['Price'] * df_merged['EURBRL'], conv_dolar)"
   ]
  },
  {
   "cell_type": "code",
   "execution_count": 40,
   "metadata": {},
   "outputs": [
    {
     "data": {
      "text/html": [
       "<div>\n",
       "<style scoped>\n",
       "    .dataframe tbody tr th:only-of-type {\n",
       "        vertical-align: middle;\n",
       "    }\n",
       "\n",
       "    .dataframe tbody tr th {\n",
       "        vertical-align: top;\n",
       "    }\n",
       "\n",
       "    .dataframe thead th {\n",
       "        text-align: right;\n",
       "    }\n",
       "</style>\n",
       "<table border=\"1\" class=\"dataframe\">\n",
       "  <thead>\n",
       "    <tr style=\"text-align: right;\">\n",
       "      <th></th>\n",
       "      <th>Order</th>\n",
       "      <th>Currency</th>\n",
       "      <th>Price</th>\n",
       "      <th>Status</th>\n",
       "      <th>Store</th>\n",
       "      <th>Details</th>\n",
       "      <th>orderEnds</th>\n",
       "      <th>Date</th>\n",
       "      <th>EURBRL</th>\n",
       "      <th>USDBRL</th>\n",
       "      <th>Reais</th>\n",
       "    </tr>\n",
       "  </thead>\n",
       "  <tbody>\n",
       "  </tbody>\n",
       "</table>\n",
       "</div>"
      ],
      "text/plain": [
       "Empty DataFrame\n",
       "Columns: [Order, Currency, Price, Status, Store, Details, orderEnds, Date, EURBRL, USDBRL, Reais]\n",
       "Index: []"
      ]
     },
     "execution_count": 40,
     "metadata": {},
     "output_type": "execute_result"
    }
   ],
   "source": [
    "#checking if there is a null value\n",
    "df_merged.loc[df_merged['Reais'].isna()]"
   ]
  },
  {
   "cell_type": "markdown",
   "metadata": {},
   "source": [
    "## Save into a new CSV"
   ]
  },
  {
   "cell_type": "code",
   "execution_count": 41,
   "metadata": {},
   "outputs": [],
   "source": [
    "df_merged.to_csv('Orderlist20190709_cleaned.csv', index=False )"
   ]
  }
 ],
 "metadata": {
  "kernelspec": {
   "display_name": "Python 3",
   "language": "python",
   "name": "python3"
  },
  "language_info": {
   "codemirror_mode": {
    "name": "ipython",
    "version": 3
   },
   "file_extension": ".py",
   "mimetype": "text/x-python",
   "name": "python",
   "nbconvert_exporter": "python",
   "pygments_lexer": "ipython3",
   "version": "3.7.1"
  }
 },
 "nbformat": 4,
 "nbformat_minor": 2
}
