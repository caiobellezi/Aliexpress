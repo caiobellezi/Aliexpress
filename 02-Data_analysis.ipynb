{
 "cells": [
  {
   "cell_type": "code",
   "execution_count": 1,
   "metadata": {},
   "outputs": [],
   "source": [
    "import pandas as pd\n",
    "import numpy as np\n",
    "import matplotlib.pyplot as plt\n",
    "import seaborn as sns"
   ]
  },
  {
   "cell_type": "code",
   "execution_count": 2,
   "metadata": {},
   "outputs": [],
   "source": [
    "df = pd.read_csv('Orderlist20190709_cleaned.csv')"
   ]
  },
  {
   "cell_type": "code",
   "execution_count": 3,
   "metadata": {},
   "outputs": [
    {
     "data": {
      "text/html": [
       "<div>\n",
       "<style scoped>\n",
       "    .dataframe tbody tr th:only-of-type {\n",
       "        vertical-align: middle;\n",
       "    }\n",
       "\n",
       "    .dataframe tbody tr th {\n",
       "        vertical-align: top;\n",
       "    }\n",
       "\n",
       "    .dataframe thead th {\n",
       "        text-align: right;\n",
       "    }\n",
       "</style>\n",
       "<table border=\"1\" class=\"dataframe\">\n",
       "  <thead>\n",
       "    <tr style=\"text-align: right;\">\n",
       "      <th></th>\n",
       "      <th>Order</th>\n",
       "      <th>Currency</th>\n",
       "      <th>Price</th>\n",
       "      <th>Status</th>\n",
       "      <th>Store</th>\n",
       "      <th>Details</th>\n",
       "      <th>orderEnds</th>\n",
       "      <th>Date</th>\n",
       "      <th>EURBRL</th>\n",
       "      <th>USDBRL</th>\n",
       "      <th>Reais</th>\n",
       "    </tr>\n",
       "  </thead>\n",
       "  <tbody>\n",
       "    <tr>\n",
       "      <th>0</th>\n",
       "      <td>103271516165505</td>\n",
       "      <td>$</td>\n",
       "      <td>7.32</td>\n",
       "      <td>Aguardando entrega</td>\n",
       "      <td>ZIYAN Store</td>\n",
       "      <td>Seu pedido será fechado em: 70 dias 7 horas 20...</td>\n",
       "      <td>2019-09-18 01:15:00</td>\n",
       "      <td>2019-06-18 00:00:00</td>\n",
       "      <td>4.323300</td>\n",
       "      <td>3.86100</td>\n",
       "      <td>28.262520</td>\n",
       "    </tr>\n",
       "    <tr>\n",
       "      <th>1</th>\n",
       "      <td>102715705855505</td>\n",
       "      <td>$</td>\n",
       "      <td>19.79</td>\n",
       "      <td>Concluído</td>\n",
       "      <td>Bluedio official store</td>\n",
       "      <td>NaN</td>\n",
       "      <td>NaN</td>\n",
       "      <td>2019-06-06 00:00:00</td>\n",
       "      <td>4.375500</td>\n",
       "      <td>3.87990</td>\n",
       "      <td>76.783221</td>\n",
       "    </tr>\n",
       "    <tr>\n",
       "      <th>2</th>\n",
       "      <td>102339700245505</td>\n",
       "      <td>R$</td>\n",
       "      <td>289.67</td>\n",
       "      <td>Concluído</td>\n",
       "      <td>MC-TECH Store</td>\n",
       "      <td>NaN</td>\n",
       "      <td>NaN</td>\n",
       "      <td>2019-05-26 00:00:00</td>\n",
       "      <td>4.507600</td>\n",
       "      <td>4.02270</td>\n",
       "      <td>289.670000</td>\n",
       "    </tr>\n",
       "    <tr>\n",
       "      <th>3</th>\n",
       "      <td>102339700255505</td>\n",
       "      <td>R$</td>\n",
       "      <td>22.18</td>\n",
       "      <td>Aguardando entrega</td>\n",
       "      <td>Godness House-jder Store</td>\n",
       "      <td>Seu pedido será fechado em: 53 dias 10 horas 1...</td>\n",
       "      <td>2019-01-09 04:12:00</td>\n",
       "      <td>2019-05-26 00:00:00</td>\n",
       "      <td>4.507600</td>\n",
       "      <td>4.02270</td>\n",
       "      <td>22.180000</td>\n",
       "    </tr>\n",
       "    <tr>\n",
       "      <th>4</th>\n",
       "      <td>102339700265505</td>\n",
       "      <td>R$</td>\n",
       "      <td>43.98</td>\n",
       "      <td>Concluído</td>\n",
       "      <td>Blue shield electronic technology</td>\n",
       "      <td>NaN</td>\n",
       "      <td>NaN</td>\n",
       "      <td>2019-05-26 00:00:00</td>\n",
       "      <td>4.507600</td>\n",
       "      <td>4.02270</td>\n",
       "      <td>43.980000</td>\n",
       "    </tr>\n",
       "    <tr>\n",
       "      <th>5</th>\n",
       "      <td>102339700275505</td>\n",
       "      <td>R$</td>\n",
       "      <td>45.32</td>\n",
       "      <td>Concluído</td>\n",
       "      <td>Fodsports Official Store</td>\n",
       "      <td>NaN</td>\n",
       "      <td>NaN</td>\n",
       "      <td>2019-05-26 00:00:00</td>\n",
       "      <td>4.507600</td>\n",
       "      <td>4.02270</td>\n",
       "      <td>45.320000</td>\n",
       "    </tr>\n",
       "    <tr>\n",
       "      <th>6</th>\n",
       "      <td>102339700235505</td>\n",
       "      <td>R$</td>\n",
       "      <td>50.98</td>\n",
       "      <td>Concluído</td>\n",
       "      <td>SH Electronics Store</td>\n",
       "      <td>NaN</td>\n",
       "      <td>NaN</td>\n",
       "      <td>2019-05-26 00:00:00</td>\n",
       "      <td>4.507600</td>\n",
       "      <td>4.02270</td>\n",
       "      <td>50.980000</td>\n",
       "    </tr>\n",
       "    <tr>\n",
       "      <th>7</th>\n",
       "      <td>100690532105505</td>\n",
       "      <td>$</td>\n",
       "      <td>61.79</td>\n",
       "      <td>Concluído</td>\n",
       "      <td>Shenzhen QSS Electronics Co. Ltd</td>\n",
       "      <td>NaN</td>\n",
       "      <td>NaN</td>\n",
       "      <td>2019-04-13 00:00:00</td>\n",
       "      <td>4.363600</td>\n",
       "      <td>3.87580</td>\n",
       "      <td>239.485682</td>\n",
       "    </tr>\n",
       "    <tr>\n",
       "      <th>8</th>\n",
       "      <td>100216642135505</td>\n",
       "      <td>R$</td>\n",
       "      <td>29.36</td>\n",
       "      <td>Concluído</td>\n",
       "      <td>UPaitou Official Store</td>\n",
       "      <td>NaN</td>\n",
       "      <td>NaN</td>\n",
       "      <td>2019-04-01 00:00:00</td>\n",
       "      <td>4.316800</td>\n",
       "      <td>3.85205</td>\n",
       "      <td>29.360000</td>\n",
       "    </tr>\n",
       "    <tr>\n",
       "      <th>9</th>\n",
       "      <td>100216642145505</td>\n",
       "      <td>R$</td>\n",
       "      <td>25.60</td>\n",
       "      <td>Concluído</td>\n",
       "      <td>TTOMYYOUG Official Store</td>\n",
       "      <td>NaN</td>\n",
       "      <td>NaN</td>\n",
       "      <td>2019-04-01 00:00:00</td>\n",
       "      <td>4.316800</td>\n",
       "      <td>3.85205</td>\n",
       "      <td>25.600000</td>\n",
       "    </tr>\n",
       "    <tr>\n",
       "      <th>10</th>\n",
       "      <td>100216642095505</td>\n",
       "      <td>R$</td>\n",
       "      <td>42.95</td>\n",
       "      <td>Terminado</td>\n",
       "      <td>Rose Bag Store</td>\n",
       "      <td>NaN</td>\n",
       "      <td>NaN</td>\n",
       "      <td>2019-04-01 00:00:00</td>\n",
       "      <td>4.316800</td>\n",
       "      <td>3.85205</td>\n",
       "      <td>42.950000</td>\n",
       "    </tr>\n",
       "    <tr>\n",
       "      <th>11</th>\n",
       "      <td>100216642125505</td>\n",
       "      <td>R$</td>\n",
       "      <td>10.33</td>\n",
       "      <td>Concluído</td>\n",
       "      <td>Warming Car Parts Store</td>\n",
       "      <td>NaN</td>\n",
       "      <td>NaN</td>\n",
       "      <td>2019-04-01 00:00:00</td>\n",
       "      <td>4.316800</td>\n",
       "      <td>3.85205</td>\n",
       "      <td>10.330000</td>\n",
       "    </tr>\n",
       "    <tr>\n",
       "      <th>12</th>\n",
       "      <td>99712791175505</td>\n",
       "      <td>R$</td>\n",
       "      <td>69.03</td>\n",
       "      <td>Terminado</td>\n",
       "      <td>Star Pets Product Workshop</td>\n",
       "      <td>NaN</td>\n",
       "      <td>NaN</td>\n",
       "      <td>2019-03-10 00:00:00</td>\n",
       "      <td>4.342890</td>\n",
       "      <td>3.86655</td>\n",
       "      <td>69.030000</td>\n",
       "    </tr>\n",
       "    <tr>\n",
       "      <th>13</th>\n",
       "      <td>507447644845505</td>\n",
       "      <td>$</td>\n",
       "      <td>15.99</td>\n",
       "      <td>Concluído</td>\n",
       "      <td>OyOCycle Offcial Store</td>\n",
       "      <td>NaN</td>\n",
       "      <td>NaN</td>\n",
       "      <td>2018-12-13 00:00:00</td>\n",
       "      <td>4.422400</td>\n",
       "      <td>3.89070</td>\n",
       "      <td>62.212293</td>\n",
       "    </tr>\n",
       "    <tr>\n",
       "      <th>14</th>\n",
       "      <td>507261224355505</td>\n",
       "      <td>$</td>\n",
       "      <td>24.30</td>\n",
       "      <td>Concluído</td>\n",
       "      <td>Shop3673036 Store</td>\n",
       "      <td>NaN</td>\n",
       "      <td>NaN</td>\n",
       "      <td>2018-11-12 00:00:00</td>\n",
       "      <td>4.227407</td>\n",
       "      <td>3.76640</td>\n",
       "      <td>91.523520</td>\n",
       "    </tr>\n",
       "  </tbody>\n",
       "</table>\n",
       "</div>"
      ],
      "text/plain": [
       "              Order Currency   Price              Status  \\\n",
       "0   103271516165505        $    7.32  Aguardando entrega   \n",
       "1   102715705855505        $   19.79           Concluído   \n",
       "2   102339700245505       R$  289.67           Concluído   \n",
       "3   102339700255505       R$   22.18  Aguardando entrega   \n",
       "4   102339700265505       R$   43.98           Concluído   \n",
       "5   102339700275505       R$   45.32           Concluído   \n",
       "6   102339700235505       R$   50.98           Concluído   \n",
       "7   100690532105505        $   61.79           Concluído   \n",
       "8   100216642135505       R$   29.36           Concluído   \n",
       "9   100216642145505       R$   25.60           Concluído   \n",
       "10  100216642095505       R$   42.95           Terminado   \n",
       "11  100216642125505       R$   10.33           Concluído   \n",
       "12   99712791175505       R$   69.03           Terminado   \n",
       "13  507447644845505        $   15.99           Concluído   \n",
       "14  507261224355505        $   24.30           Concluído   \n",
       "\n",
       "                                Store  \\\n",
       "0                         ZIYAN Store   \n",
       "1              Bluedio official store   \n",
       "2                       MC-TECH Store   \n",
       "3            Godness House-jder Store   \n",
       "4   Blue shield electronic technology   \n",
       "5            Fodsports Official Store   \n",
       "6                SH Electronics Store   \n",
       "7    Shenzhen QSS Electronics Co. Ltd   \n",
       "8              UPaitou Official Store   \n",
       "9            TTOMYYOUG Official Store   \n",
       "10                     Rose Bag Store   \n",
       "11            Warming Car Parts Store   \n",
       "12         Star Pets Product Workshop   \n",
       "13             OyOCycle Offcial Store   \n",
       "14                  Shop3673036 Store   \n",
       "\n",
       "                                              Details            orderEnds  \\\n",
       "0   Seu pedido será fechado em: 70 dias 7 horas 20...  2019-09-18 01:15:00   \n",
       "1                                                 NaN                  NaN   \n",
       "2                                                 NaN                  NaN   \n",
       "3   Seu pedido será fechado em: 53 dias 10 horas 1...  2019-01-09 04:12:00   \n",
       "4                                                 NaN                  NaN   \n",
       "5                                                 NaN                  NaN   \n",
       "6                                                 NaN                  NaN   \n",
       "7                                                 NaN                  NaN   \n",
       "8                                                 NaN                  NaN   \n",
       "9                                                 NaN                  NaN   \n",
       "10                                                NaN                  NaN   \n",
       "11                                                NaN                  NaN   \n",
       "12                                                NaN                  NaN   \n",
       "13                                                NaN                  NaN   \n",
       "14                                                NaN                  NaN   \n",
       "\n",
       "                   Date    EURBRL   USDBRL       Reais  \n",
       "0   2019-06-18 00:00:00  4.323300  3.86100   28.262520  \n",
       "1   2019-06-06 00:00:00  4.375500  3.87990   76.783221  \n",
       "2   2019-05-26 00:00:00  4.507600  4.02270  289.670000  \n",
       "3   2019-05-26 00:00:00  4.507600  4.02270   22.180000  \n",
       "4   2019-05-26 00:00:00  4.507600  4.02270   43.980000  \n",
       "5   2019-05-26 00:00:00  4.507600  4.02270   45.320000  \n",
       "6   2019-05-26 00:00:00  4.507600  4.02270   50.980000  \n",
       "7   2019-04-13 00:00:00  4.363600  3.87580  239.485682  \n",
       "8   2019-04-01 00:00:00  4.316800  3.85205   29.360000  \n",
       "9   2019-04-01 00:00:00  4.316800  3.85205   25.600000  \n",
       "10  2019-04-01 00:00:00  4.316800  3.85205   42.950000  \n",
       "11  2019-04-01 00:00:00  4.316800  3.85205   10.330000  \n",
       "12  2019-03-10 00:00:00  4.342890  3.86655   69.030000  \n",
       "13  2018-12-13 00:00:00  4.422400  3.89070   62.212293  \n",
       "14  2018-11-12 00:00:00  4.227407  3.76640   91.523520  "
      ]
     },
     "execution_count": 3,
     "metadata": {},
     "output_type": "execute_result"
    }
   ],
   "source": [
    "df.head(15)"
   ]
  },
  {
   "cell_type": "code",
   "execution_count": 4,
   "metadata": {
    "scrolled": true
   },
   "outputs": [
    {
     "data": {
      "text/plain": [
       "Index(['Order', 'Currency', 'Price', 'Status', 'Store', 'Details', 'orderEnds',\n",
       "       'Date', 'EURBRL', 'USDBRL', 'Reais'],\n",
       "      dtype='object')"
      ]
     },
     "execution_count": 4,
     "metadata": {},
     "output_type": "execute_result"
    }
   ],
   "source": [
    "df.columns"
   ]
  },
  {
   "cell_type": "code",
   "execution_count": 17,
   "metadata": {},
   "outputs": [
    {
     "data": {
      "text/plain": [
       "Order                 int64\n",
       "Currency             object\n",
       "Price               float64\n",
       "Status               object\n",
       "Store                object\n",
       "Details              object\n",
       "orderEnds            object\n",
       "Date         datetime64[ns]\n",
       "EURBRL              float64\n",
       "USDBRL              float64\n",
       "Reais               float64\n",
       "Year                  int64\n",
       "Month                 int64\n",
       "teste                 int64\n",
       "dtype: object"
      ]
     },
     "execution_count": 17,
     "metadata": {},
     "output_type": "execute_result"
    }
   ],
   "source": [
    "df.dtypes"
   ]
  },
  {
   "cell_type": "code",
   "execution_count": 6,
   "metadata": {},
   "outputs": [],
   "source": [
    "df['Date'] = pd.to_datetime(df['Date'])"
   ]
  },
  {
   "cell_type": "code",
   "execution_count": 7,
   "metadata": {},
   "outputs": [],
   "source": [
    "df['Year'] = df['Date'].dt.year"
   ]
  },
  {
   "cell_type": "code",
   "execution_count": 8,
   "metadata": {},
   "outputs": [],
   "source": [
    "df['Month'] = df['Date'].dt.month"
   ]
  },
  {
   "cell_type": "code",
   "execution_count": 29,
   "metadata": {},
   "outputs": [],
   "source": [
    "df['Period'] = df['Year'].map(str) +'-'+ df['Month'].map(str)"
   ]
  },
  {
   "cell_type": "code",
   "execution_count": 75,
   "metadata": {
    "scrolled": true
   },
   "outputs": [
    {
     "data": {
      "text/html": [
       "<div>\n",
       "<style scoped>\n",
       "    .dataframe tbody tr th:only-of-type {\n",
       "        vertical-align: middle;\n",
       "    }\n",
       "\n",
       "    .dataframe tbody tr th {\n",
       "        vertical-align: top;\n",
       "    }\n",
       "\n",
       "    .dataframe thead th {\n",
       "        text-align: right;\n",
       "    }\n",
       "</style>\n",
       "<table border=\"1\" class=\"dataframe\">\n",
       "  <thead>\n",
       "    <tr style=\"text-align: right;\">\n",
       "      <th></th>\n",
       "      <th>Order</th>\n",
       "      <th>Currency</th>\n",
       "      <th>Price</th>\n",
       "      <th>Status</th>\n",
       "      <th>Store</th>\n",
       "      <th>Details</th>\n",
       "      <th>orderEnds</th>\n",
       "      <th>Date</th>\n",
       "      <th>EURBRL</th>\n",
       "      <th>USDBRL</th>\n",
       "      <th>Reais</th>\n",
       "      <th>Year</th>\n",
       "      <th>Month</th>\n",
       "      <th>Period</th>\n",
       "      <th>Y_M</th>\n",
       "    </tr>\n",
       "  </thead>\n",
       "  <tbody>\n",
       "    <tr>\n",
       "      <th>0</th>\n",
       "      <td>103271516165505</td>\n",
       "      <td>$</td>\n",
       "      <td>7.32</td>\n",
       "      <td>Aguardando entrega</td>\n",
       "      <td>ZIYAN Store</td>\n",
       "      <td>Seu pedido será fechado em: 70 dias 7 horas 20...</td>\n",
       "      <td>2019-09-18 01:15:00</td>\n",
       "      <td>2019-06-18</td>\n",
       "      <td>4.3233</td>\n",
       "      <td>3.8610</td>\n",
       "      <td>28.262520</td>\n",
       "      <td>2019</td>\n",
       "      <td>6</td>\n",
       "      <td>2019-6</td>\n",
       "      <td>2019-06</td>\n",
       "    </tr>\n",
       "    <tr>\n",
       "      <th>1</th>\n",
       "      <td>102715705855505</td>\n",
       "      <td>$</td>\n",
       "      <td>19.79</td>\n",
       "      <td>Concluído</td>\n",
       "      <td>Bluedio official store</td>\n",
       "      <td>NaN</td>\n",
       "      <td>NaN</td>\n",
       "      <td>2019-06-06</td>\n",
       "      <td>4.3755</td>\n",
       "      <td>3.8799</td>\n",
       "      <td>76.783221</td>\n",
       "      <td>2019</td>\n",
       "      <td>6</td>\n",
       "      <td>2019-6</td>\n",
       "      <td>2019-06</td>\n",
       "    </tr>\n",
       "    <tr>\n",
       "      <th>2</th>\n",
       "      <td>102339700245505</td>\n",
       "      <td>R$</td>\n",
       "      <td>289.67</td>\n",
       "      <td>Concluído</td>\n",
       "      <td>MC-TECH Store</td>\n",
       "      <td>NaN</td>\n",
       "      <td>NaN</td>\n",
       "      <td>2019-05-26</td>\n",
       "      <td>4.5076</td>\n",
       "      <td>4.0227</td>\n",
       "      <td>289.670000</td>\n",
       "      <td>2019</td>\n",
       "      <td>5</td>\n",
       "      <td>2019-5</td>\n",
       "      <td>2019-05</td>\n",
       "    </tr>\n",
       "    <tr>\n",
       "      <th>3</th>\n",
       "      <td>102339700255505</td>\n",
       "      <td>R$</td>\n",
       "      <td>22.18</td>\n",
       "      <td>Aguardando entrega</td>\n",
       "      <td>Godness House-jder Store</td>\n",
       "      <td>Seu pedido será fechado em: 53 dias 10 horas 1...</td>\n",
       "      <td>2019-01-09 04:12:00</td>\n",
       "      <td>2019-05-26</td>\n",
       "      <td>4.5076</td>\n",
       "      <td>4.0227</td>\n",
       "      <td>22.180000</td>\n",
       "      <td>2019</td>\n",
       "      <td>5</td>\n",
       "      <td>2019-5</td>\n",
       "      <td>2019-05</td>\n",
       "    </tr>\n",
       "    <tr>\n",
       "      <th>4</th>\n",
       "      <td>102339700265505</td>\n",
       "      <td>R$</td>\n",
       "      <td>43.98</td>\n",
       "      <td>Concluído</td>\n",
       "      <td>Blue shield electronic technology</td>\n",
       "      <td>NaN</td>\n",
       "      <td>NaN</td>\n",
       "      <td>2019-05-26</td>\n",
       "      <td>4.5076</td>\n",
       "      <td>4.0227</td>\n",
       "      <td>43.980000</td>\n",
       "      <td>2019</td>\n",
       "      <td>5</td>\n",
       "      <td>2019-5</td>\n",
       "      <td>2019-05</td>\n",
       "    </tr>\n",
       "  </tbody>\n",
       "</table>\n",
       "</div>"
      ],
      "text/plain": [
       "             Order Currency   Price              Status  \\\n",
       "0  103271516165505        $    7.32  Aguardando entrega   \n",
       "1  102715705855505        $   19.79           Concluído   \n",
       "2  102339700245505       R$  289.67           Concluído   \n",
       "3  102339700255505       R$   22.18  Aguardando entrega   \n",
       "4  102339700265505       R$   43.98           Concluído   \n",
       "\n",
       "                               Store  \\\n",
       "0                        ZIYAN Store   \n",
       "1             Bluedio official store   \n",
       "2                      MC-TECH Store   \n",
       "3           Godness House-jder Store   \n",
       "4  Blue shield electronic technology   \n",
       "\n",
       "                                             Details            orderEnds  \\\n",
       "0  Seu pedido será fechado em: 70 dias 7 horas 20...  2019-09-18 01:15:00   \n",
       "1                                                NaN                  NaN   \n",
       "2                                                NaN                  NaN   \n",
       "3  Seu pedido será fechado em: 53 dias 10 horas 1...  2019-01-09 04:12:00   \n",
       "4                                                NaN                  NaN   \n",
       "\n",
       "        Date  EURBRL  USDBRL       Reais  Year  Month  Period      Y_M  \n",
       "0 2019-06-18  4.3233  3.8610   28.262520  2019      6  2019-6  2019-06  \n",
       "1 2019-06-06  4.3755  3.8799   76.783221  2019      6  2019-6  2019-06  \n",
       "2 2019-05-26  4.5076  4.0227  289.670000  2019      5  2019-5  2019-05  \n",
       "3 2019-05-26  4.5076  4.0227   22.180000  2019      5  2019-5  2019-05  \n",
       "4 2019-05-26  4.5076  4.0227   43.980000  2019      5  2019-5  2019-05  "
      ]
     },
     "execution_count": 75,
     "metadata": {},
     "output_type": "execute_result"
    }
   ],
   "source": [
    "df.head()"
   ]
  },
  {
   "cell_type": "code",
   "execution_count": 45,
   "metadata": {},
   "outputs": [],
   "source": [
    "df['Y_M'] = df['Date'].dt.strftime('%Y-%m')"
   ]
  },
  {
   "cell_type": "code",
   "execution_count": 94,
   "metadata": {},
   "outputs": [],
   "source": [
    "Y_M = df.groupby(by='Y_M')\n",
    "Y_M = Y_M['Reais'].sum()"
   ]
  },
  {
   "cell_type": "code",
   "execution_count": 116,
   "metadata": {},
   "outputs": [],
   "source": [
    "top15 = Y_M.sort_values(ascending=False).head(15)"
   ]
  },
  {
   "cell_type": "code",
   "execution_count": 117,
   "metadata": {
    "scrolled": true
   },
   "outputs": [
    {
     "data": {
      "image/png": "[encoded data removed]",
      "text/plain": [
       "<Figure size 1224x504 with 1 Axes>"
      ]
     },
     "metadata": {},
     "output_type": "display_data"
    }
   ],
   "source": [
    "fig = plt.figure(figsize=(17,7))\n",
    "plt.style.use('fivethirtyeight')\n",
    "Y_M.plot(kind='bar', color = ['green','#8330F0', '#c40033', '#404040', '#f58000'])\n",
    "plt.title('Mes/ano')\n",
    "plt.ylabel('Valor total gasto')\n",
    "plt.xticks(rotation=75)\n",
    "plt.show()"
   ]
  },
  {
   "cell_type": "code",
   "execution_count": 118,
   "metadata": {},
   "outputs": [
    {
     "data": {
      "image/png": "[encoded data removed]",
      "text/plain": [
       "<Figure size 1224x504 with 1 Axes>"
      ]
     },
     "metadata": {},
     "output_type": "display_data"
    }
   ],
   "source": [
    "fig = plt.figure(figsize=(17,7))\n",
    "plt.style.use('fivethirtyeight')\n",
    "top15.plot(kind='bar', color = ['green','#8330F0', '#c40033', '#404040', '#f58000'])\n",
    "plt.title('Top 20 gastos (R$)')\n",
    "plt.ylabel('Valor total gasto')\n",
    "plt.xticks(rotation=75)\n",
    "plt.show()"
   ]
  },
  {
   "cell_type": "code",
   "execution_count": 119,
   "metadata": {},
   "outputs": [],
   "source": [
    "status = df.groupby('Year')\n",
    "year = status['Reais'].sum()"
   ]
  },
  {
   "cell_type": "code",
   "execution_count": 120,
   "metadata": {},
   "outputs": [
    {
     "data": {
      "text/plain": [
       "Year\n",
       "2018    4205.097858\n",
       "2017    2490.601137\n",
       "2016    1262.211428\n",
       "2015    1108.687412\n",
       "2019     973.931423\n",
       "2013     700.804298\n",
       "2014      73.882374\n",
       "Name: Reais, dtype: float64"
      ]
     },
     "execution_count": 120,
     "metadata": {},
     "output_type": "execute_result"
    }
   ],
   "source": [
    "year.sort_values(ascending=False)"
   ]
  },
  {
   "cell_type": "code",
   "execution_count": 126,
   "metadata": {},
   "outputs": [
    {
     "data": {
      "image/png": "[encoded data removed]",
      "text/plain": [
       "<Figure size 1224x504 with 1 Axes>"
      ]
     },
     "metadata": {},
     "output_type": "display_data"
    }
   ],
   "source": [
    "fig = plt.figure(figsize=(17,7))\n",
    "plt.style.use('fivethirtyeight')\n",
    "top15.plot(kind='bar', color = ['green','#8330F0', '#c40033', '#404040', '#f58000'])\n",
    "plt.title('Top 15 gastos (R$)')\n",
    "plt.ylabel('Valor total gasto')\n",
    "plt.xticks(rotation=75)\n",
    "plt.show()"
   ]
  },
  {
   "cell_type": "code",
   "execution_count": 122,
   "metadata": {},
   "outputs": [],
   "source": [
    "status = df.groupby('Month')\n",
    "month = status['Reais'].sum()"
   ]
  },
  {
   "cell_type": "code",
   "execution_count": 123,
   "metadata": {},
   "outputs": [
    {
     "data": {
      "image/png": "[encoded data removed]",
      "text/plain": [
       "<Figure size 1224x504 with 1 Axes>"
      ]
     },
     "metadata": {},
     "output_type": "display_data"
    }
   ],
   "source": [
    "fig = plt.figure(figsize=(17,7))\n",
    "plt.style.use('fivethirtyeight')\n",
    "year.plot(kind='bar')\n",
    "plt.xticks(rotation=0)\n",
    "plt.show()"
   ]
  },
  {
   "cell_type": "code",
   "execution_count": 124,
   "metadata": {
    "scrolled": true
   },
   "outputs": [
    {
     "data": {
      "text/plain": [
       "Month\n",
       "11    1981.848033\n",
       "6     1742.895169\n",
       "3     1521.366816\n",
       "1     1023.395943\n",
       "5      996.411291\n",
       "7      778.933328\n",
       "10     751.656719\n",
       "4      660.601892\n",
       "9      437.850589\n",
       "8      420.775866\n",
       "12     281.701724\n",
       "2      217.778560\n",
       "Name: Reais, dtype: float64"
      ]
     },
     "execution_count": 124,
     "metadata": {},
     "output_type": "execute_result"
    }
   ],
   "source": [
    "month.sort_values(ascending=False)"
   ]
  },
  {
   "cell_type": "code",
   "execution_count": 125,
   "metadata": {},
   "outputs": [
    {
     "data": {
      "image/png": "[encoded data removed]",
      "text/plain": [
       "<Figure size 1224x504 with 1 Axes>"
      ]
     },
     "metadata": {},
     "output_type": "display_data"
    }
   ],
   "source": [
    "fig = plt.figure(figsize=(17,7))\n",
    "plt.style.use('fivethirtyeight')\n",
    "month.plot(kind='bar')\n",
    "plt.xticks(rotation=0)\n",
    "plt.show()"
   ]
  },
  {
   "cell_type": "markdown",
   "metadata": {},
   "source": [
    "## Propostas\n",
    " - Separar gastos em reais por ano / por mes/ por ano e mes\n",
    " - Separar top 15\n",
    " - Plotar Graficos\n",
    " - verificar quantidade de compras por mes\n",
    " - verificar quantidade de compras por ano\n"
   ]
  },
  {
   "cell_type": "code",
   "execution_count": null,
   "metadata": {},
   "outputs": [],
   "source": []
  },
  {
   "cell_type": "code",
   "execution_count": null,
   "metadata": {},
   "outputs": [],
   "source": []
  }
 ],
 "metadata": {
  "kernelspec": {
   "display_name": "Python 3",
   "language": "python",
   "name": "python3"
  },
  "language_info": {
   "codemirror_mode": {
    "name": "ipython",
    "version": 3
   },
   "file_extension": ".py",
   "mimetype": "text/x-python",
   "name": "python",
   "nbconvert_exporter": "python",
   "pygments_lexer": "ipython3",
   "version": "3.7.1"
  }
 },
 "nbformat": 4,
 "nbformat_minor": 2
}
