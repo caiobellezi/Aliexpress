{
 "cells": [
  {
   "cell_type": "code",
   "execution_count": 1,
   "metadata": {},
   "outputs": [],
   "source": [
    "import pandas as pd\n",
    "import numpy as np\n",
    "import matplotlib.pyplot as plt\n",
    "import seaborn as sns"
   ]
  },
  {
   "cell_type": "code",
   "execution_count": 11,
   "metadata": {},
   "outputs": [],
   "source": [
    "df = pd.read_csv('Orderlist20190709_cleaned.csv')"
   ]
  },
  {
   "cell_type": "code",
   "execution_count": 12,
   "metadata": {},
   "outputs": [
    {
     "data": {
      "text/html": [
       "<div>\n",
       "<style scoped>\n",
       "    .dataframe tbody tr th:only-of-type {\n",
       "        vertical-align: middle;\n",
       "    }\n",
       "\n",
       "    .dataframe tbody tr th {\n",
       "        vertical-align: top;\n",
       "    }\n",
       "\n",
       "    .dataframe thead th {\n",
       "        text-align: right;\n",
       "    }\n",
       "</style>\n",
       "<table border=\"1\" class=\"dataframe\">\n",
       "  <thead>\n",
       "    <tr style=\"text-align: right;\">\n",
       "      <th></th>\n",
       "      <th>Order</th>\n",
       "      <th>Currency</th>\n",
       "      <th>Price</th>\n",
       "      <th>Status</th>\n",
       "      <th>Store</th>\n",
       "      <th>Details</th>\n",
       "      <th>orderEnds</th>\n",
       "      <th>Date</th>\n",
       "      <th>EURBRL</th>\n",
       "      <th>USDBRL</th>\n",
       "      <th>Reais</th>\n",
       "    </tr>\n",
       "  </thead>\n",
       "  <tbody>\n",
       "    <tr>\n",
       "      <th>0</th>\n",
       "      <td>103271516165505</td>\n",
       "      <td>$</td>\n",
       "      <td>7.32</td>\n",
       "      <td>Aguardando entrega</td>\n",
       "      <td>ZIYAN Store</td>\n",
       "      <td>Seu pedido será fechado em: 70 dias 7 horas 20...</td>\n",
       "      <td>2019-09-18 01:15:00</td>\n",
       "      <td>2019-06-18 00:00:00</td>\n",
       "      <td>4.3233</td>\n",
       "      <td>3.8610</td>\n",
       "      <td>28.262520</td>\n",
       "    </tr>\n",
       "    <tr>\n",
       "      <th>1</th>\n",
       "      <td>102715705855505</td>\n",
       "      <td>$</td>\n",
       "      <td>19.79</td>\n",
       "      <td>Concluído</td>\n",
       "      <td>Bluedio official store</td>\n",
       "      <td>NaN</td>\n",
       "      <td>NaN</td>\n",
       "      <td>2019-06-06 00:00:00</td>\n",
       "      <td>4.3755</td>\n",
       "      <td>3.8799</td>\n",
       "      <td>76.783221</td>\n",
       "    </tr>\n",
       "    <tr>\n",
       "      <th>2</th>\n",
       "      <td>102339700245505</td>\n",
       "      <td>R$</td>\n",
       "      <td>289.67</td>\n",
       "      <td>Concluído</td>\n",
       "      <td>MC-TECH Store</td>\n",
       "      <td>NaN</td>\n",
       "      <td>NaN</td>\n",
       "      <td>2019-05-26 00:00:00</td>\n",
       "      <td>4.5076</td>\n",
       "      <td>4.0227</td>\n",
       "      <td>289.670000</td>\n",
       "    </tr>\n",
       "    <tr>\n",
       "      <th>3</th>\n",
       "      <td>102339700255505</td>\n",
       "      <td>R$</td>\n",
       "      <td>22.18</td>\n",
       "      <td>Aguardando entrega</td>\n",
       "      <td>Godness House-jder Store</td>\n",
       "      <td>Seu pedido será fechado em: 53 dias 10 horas 1...</td>\n",
       "      <td>2019-01-09 04:12:00</td>\n",
       "      <td>2019-05-26 00:00:00</td>\n",
       "      <td>4.5076</td>\n",
       "      <td>4.0227</td>\n",
       "      <td>22.180000</td>\n",
       "    </tr>\n",
       "    <tr>\n",
       "      <th>4</th>\n",
       "      <td>102339700265505</td>\n",
       "      <td>R$</td>\n",
       "      <td>43.98</td>\n",
       "      <td>Concluído</td>\n",
       "      <td>Blue shield electronic technology</td>\n",
       "      <td>NaN</td>\n",
       "      <td>NaN</td>\n",
       "      <td>2019-05-26 00:00:00</td>\n",
       "      <td>4.5076</td>\n",
       "      <td>4.0227</td>\n",
       "      <td>43.980000</td>\n",
       "    </tr>\n",
       "  </tbody>\n",
       "</table>\n",
       "</div>"
      ],
      "text/plain": [
       "             Order Currency   Price              Status  \\\n",
       "0  103271516165505        $    7.32  Aguardando entrega   \n",
       "1  102715705855505        $   19.79           Concluído   \n",
       "2  102339700245505       R$  289.67           Concluído   \n",
       "3  102339700255505       R$   22.18  Aguardando entrega   \n",
       "4  102339700265505       R$   43.98           Concluído   \n",
       "\n",
       "                               Store  \\\n",
       "0                        ZIYAN Store   \n",
       "1             Bluedio official store   \n",
       "2                      MC-TECH Store   \n",
       "3           Godness House-jder Store   \n",
       "4  Blue shield electronic technology   \n",
       "\n",
       "                                             Details            orderEnds  \\\n",
       "0  Seu pedido será fechado em: 70 dias 7 horas 20...  2019-09-18 01:15:00   \n",
       "1                                                NaN                  NaN   \n",
       "2                                                NaN                  NaN   \n",
       "3  Seu pedido será fechado em: 53 dias 10 horas 1...  2019-01-09 04:12:00   \n",
       "4                                                NaN                  NaN   \n",
       "\n",
       "                  Date  EURBRL  USDBRL       Reais  \n",
       "0  2019-06-18 00:00:00  4.3233  3.8610   28.262520  \n",
       "1  2019-06-06 00:00:00  4.3755  3.8799   76.783221  \n",
       "2  2019-05-26 00:00:00  4.5076  4.0227  289.670000  \n",
       "3  2019-05-26 00:00:00  4.5076  4.0227   22.180000  \n",
       "4  2019-05-26 00:00:00  4.5076  4.0227   43.980000  "
      ]
     },
     "execution_count": 12,
     "metadata": {},
     "output_type": "execute_result"
    }
   ],
   "source": [
    "df.head()"
   ]
  },
  {
   "cell_type": "code",
   "execution_count": 27,
   "metadata": {},
   "outputs": [
    {
     "data": {
      "text/plain": [
       "Index(['Order', 'Currency', 'Price', 'Status', 'Store', 'Details', 'orderEnds',\n",
       "       'Date', 'EURBRL', 'USDBRL', 'Reais'],\n",
       "      dtype='object')"
      ]
     },
     "execution_count": 27,
     "metadata": {},
     "output_type": "execute_result"
    }
   ],
   "source": [
    "df.columns"
   ]
  },
  {
   "cell_type": "code",
   "execution_count": 61,
   "metadata": {},
   "outputs": [],
   "source": [
    "status = df.groupby('Currency')\n",
    "statuss = status['Reais'].sum()"
   ]
  },
  {
   "cell_type": "code",
   "execution_count": 62,
   "metadata": {},
   "outputs": [
    {
     "data": {
      "text/plain": [
       "Currency\n",
       "$     10143.244147\n",
       "R$      629.400000\n",
       "€        42.571783\n",
       "Name: Reais, dtype: float64"
      ]
     },
     "execution_count": 62,
     "metadata": {},
     "output_type": "execute_result"
    }
   ],
   "source": [
    "statuss"
   ]
  },
  {
   "cell_type": "code",
   "execution_count": null,
   "metadata": {},
   "outputs": [],
   "source": []
  }
 ],
 "metadata": {
  "kernelspec": {
   "display_name": "Python 3",
   "language": "python",
   "name": "python3"
  },
  "language_info": {
   "codemirror_mode": {
    "name": "ipython",
    "version": 3
   },
   "file_extension": ".py",
   "mimetype": "text/x-python",
   "name": "python",
   "nbconvert_exporter": "python",
   "pygments_lexer": "ipython3",
   "version": "3.7.1"
  }
 },
 "nbformat": 4,
 "nbformat_minor": 2
}
